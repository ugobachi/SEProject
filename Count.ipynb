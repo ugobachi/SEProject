{
 "cells": [
  {
   "cell_type": "markdown",
   "metadata": {},
   "source": [
    "# 音声の再生時間のカウント"
   ]
  },
  {
   "cell_type": "code",
   "execution_count": 2,
   "metadata": {},
   "outputs": [],
   "source": [
    "import os, sys\n",
    "from pydub import AudioSegment\n",
    "from pathlib import Path"
   ]
  },
  {
   "cell_type": "code",
   "execution_count": 4,
   "metadata": {},
   "outputs": [],
   "source": [
    "def get_labelname(Tr):\n",
    "    \"\"\"[summary]\n",
    "    training下のラベル名を取得\n",
    "    Returns:\n",
    "        [type]: [description]\n",
    "    \"\"\"    \n",
    "    current = os.getcwd()\n",
    "    if Tr == False:\n",
    "        filepath = current + '/train/'\n",
    "    elif Tr == True:\n",
    "        filepath = current + '/test/'\n",
    "    print(filepath)\n",
    "    labellist = []\n",
    "    for dir in os.listdir(filepath):\n",
    "        if os.path.isdir(os.path.join(filepath, dir))==True:\n",
    "            labellist.append(dir)\n",
    "    \n",
    "    return labellist, filepath\n",
    "\n",
    "def wav2list(p):\n",
    "    \"\"\"[summary]\n",
    "    Get audio file list to process all at once\n",
    "    Returns:\n",
    "        list : list of audio path\n",
    "    \"\"\"\n",
    "    p = Path(p)\n",
    "    audio_list = list(p.glob('*.wav'))\n",
    "\n",
    "    if len(audio_list) == 0:\n",
    "        sys.exit('Not found in {}'.format(p))\n",
    "\n",
    "    return audio_list"
   ]
  },
  {
   "cell_type": "code",
   "execution_count": 13,
   "metadata": {},
   "outputs": [],
   "source": [
    "labellist, filepath = get_labelname(False)\n",
    "print(labellist, filepath)\n",
    "\n",
    "for i in labellist:\n",
    "    wavpath = filepath + i\n",
    "    wavpath = Path(wavpath)\n",
    "    audio_list = list(wavpath.glob('*.wav'))\n",
    "    time = 0\n",
    "    for j in audio_list:\n",
    "        sound = AudioSegment.from_file(str(j), \"wav\")\n",
    "        time += sound.duration_seconds\n",
    "    print('{0} total time is {1}s'.format(i, time))"
   ]
  }
 ],
 "metadata": {
  "kernelspec": {
   "display_name": "Python 3",
   "language": "python",
   "name": "python3"
  },
  "language_info": {
   "codemirror_mode": {
    "name": "ipython",
    "version": 3
   },
   "file_extension": ".py",
   "mimetype": "text/x-python",
   "name": "python",
   "nbconvert_exporter": "python",
   "pygments_lexer": "ipython3",
   "version": "3.6.6"
  }
 },
 "nbformat": 4,
 "nbformat_minor": 4
}
