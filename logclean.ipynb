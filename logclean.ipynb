{
 "cells": [
  {
   "cell_type": "markdown",
   "metadata": {},
   "source": [
    "# .ipynbの出力ログ削除用"
   ]
  },
  {
   "cell_type": "code",
   "execution_count": null,
   "metadata": {},
   "outputs": [],
   "source": [
    "! pip install nbclean"
   ]
  },
  {
   "cell_type": "code",
   "execution_count": 1,
   "metadata": {},
   "outputs": [],
   "source": [
    "'''\n",
    "\n",
    "このままだとこのディレクトリ内の全てのnotebookに適用されるので\n",
    "特定のものにのみ適用させたい場合はfor文のコードだけ引っ張って実行してください\n",
    "\n",
    "すぐには適用されないのでJupyterサーバをシャットダウンして再度開いてください\n",
    "\n",
    "'''\n",
    "\n",
    "import nbclean\n",
    "import os\n",
    "from pathlib import Path\n",
    "\n",
    "\n",
    "p = Path(os.getcwd())\n",
    "ipynb_list = list(p.glob('*.ipynb'))\n",
    "\n",
    "for i in ipynb_list:\n",
    "    filename = i.stem\n",
    "    c = nbclean.clean.NotebookCleaner(str(i))\n",
    "    c.clear(kind='output')\n",
    "    c.save('./{}.ipynb'.format(filename))"
   ]
  }
 ],
 "metadata": {
  "kernelspec": {
   "display_name": "Python 3",
   "language": "python",
   "name": "python3"
  },
  "language_info": {
   "codemirror_mode": {
    "name": "ipython",
    "version": 3
   },
   "file_extension": ".py",
   "mimetype": "text/x-python",
   "name": "python",
   "nbconvert_exporter": "python",
   "pygments_lexer": "ipython3",
   "version": "3.6.6"
  }
 },
 "nbformat": 4,
 "nbformat_minor": 4
}
