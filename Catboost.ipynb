{
 "cells": [
  {
   "cell_type": "markdown",
   "metadata": {},
   "source": [
    "# Catboost"
   ]
  },
  {
   "cell_type": "code",
   "execution_count": 47,
   "metadata": {},
   "outputs": [],
   "source": [
    "import os\n",
    "import sys\n",
    "import numpy as np\n",
    "import pandas as pd\n",
    "from pathlib import Path\n",
    "from sklearn.model_selection import train_test_split, GridSearchCV, StratifiedKFold\n",
    "from sklearn.preprocessing import StandardScaler\n",
    "from sklearn.svm import SVC\n",
    "from sklearn.metrics import accuracy_score\n",
    "from sklearn.metrics import recall_score\n",
    "from sklearn.metrics import precision_score\n",
    "from sklearn.metrics import f1_score, confusion_matrix\n",
    "import sklearn.metrics as metrics\n",
    "import librosa\n",
    "\n",
    "from catboost import Pool\n",
    "from catboost import CatBoostClassifier\n",
    "from sklearn.utils.class_weight import compute_sample_weight\n",
    "import optuna"
   ]
  },
  {
   "cell_type": "code",
   "execution_count": 48,
   "metadata": {},
   "outputs": [],
   "source": [
    "def get_labelname(Tr):\n",
    "    \"\"\"[summary]\n",
    "    training下のラベル名を取得\n",
    "    Returns:\n",
    "        [type]: [description]\n",
    "    \"\"\"    \n",
    "    current = os.getcwd()\n",
    "    if Tr == False:\n",
    "        filepath = current + '/train/'\n",
    "    elif Tr == True:\n",
    "        filepath = current + '/test/'\n",
    "    print(filepath)\n",
    "    labellist = []\n",
    "    for dir in os.listdir(filepath):\n",
    "        if os.path.isdir(os.path.join(filepath, dir))==True:\n",
    "            labellist.append(dir)\n",
    "    \n",
    "    return labellist, filepath\n",
    "\n",
    "def wav2list(p):\n",
    "    \"\"\"[summary]\n",
    "    Get audio file list to process all at once\n",
    "    Returns:\n",
    "        list : list of audio path\n",
    "    \"\"\"\n",
    "    p = Path(p)\n",
    "    audio_list = list(p.glob('*.wav'))\n",
    "\n",
    "    if len(audio_list) == 0:\n",
    "        sys.exit('Not found in {}'.format(p))\n",
    "\n",
    "    return audio_list\n",
    "\n",
    "def get_mfcc_librosa(p):\n",
    "    \"\"\"[summary]\n",
    "    librosaライブラリを用いて24次元MFCCを抽出する\n",
    "    データはtraining以下に置き, 各ラベルごとにフォルダを作ってデータを置いておく\n",
    "    Args:\n",
    "        p ([str]): .wavデータが置いてあるディレクトリ名\n",
    "    Returns:\n",
    "        [tupple]: (ファイル名, 24次元のMFCC)\n",
    "    \"\"\"    \n",
    "    wavlist = wav2list(p)\n",
    "    _name = []\n",
    "    _mfcc = []\n",
    "    wavlist.sort()\n",
    "\n",
    "    for wavfile in wavlist:\n",
    "        y, sr = librosa.core.load(wavfile,sr=44100)\n",
    "        tmp = librosa.feature.mfcc(y=y, sr=44100, hop_length=10, win_length=100, n_mfcc=24)\n",
    "        ceps = tmp.mean(axis=1)\n",
    "        # print(ceps)\n",
    "        _name.append(wavfile.stem)\n",
    "        _mfcc.append(ceps)\n",
    "\n",
    "    return _name, _mfcc\n",
    "\n",
    "def make_df(Tr):\n",
    "    \"\"\"[summary]\n",
    "    trainディレクトリ下から.wavデータを取ってきて抽出したMFCCとラベルから構成されるデータフレームを作成\n",
    "    Returns:\n",
    "        df_new[dataframe]: 学習データのデータフレーム\n",
    "    \"\"\"    \n",
    "    labellist, filepath = get_labelname(Tr)\n",
    "    print(labellist)\n",
    "    cols = [x for x in range(24)]\n",
    "    print(cols)\n",
    "    cols.append('label')\n",
    "    print(cols)\n",
    "    df_new = pd.DataFrame(index = [], columns=cols)\n",
    "    # print(df_new)\n",
    "    for label in labellist:\n",
    "        # print(filepath, label)\n",
    "        labelpath = filepath + label\n",
    "        filename, tmp = get_mfcc_librosa(labelpath)\n",
    "        df = pd.DataFrame(tmp, index=filename)\n",
    "        df = df.assign(label=label)\n",
    "        df_new = pd.concat([df_new, df], axis=0)\n",
    "    \n",
    "    return df_new"
   ]
  },
  {
   "cell_type": "code",
   "execution_count": 49,
   "metadata": {},
   "outputs": [],
   "source": [
    "# Training dataのデータフレーム作成 \n",
    "df = make_df(Tr=True)\n",
    "# x : 24次元のMFCC特徴量, y : データのラベル\n",
    "x = df.iloc[:, 0:24]\n",
    "y = df.iloc[:, 24]"
   ]
  },
  {
   "cell_type": "code",
   "execution_count": 50,
   "metadata": {},
   "outputs": [],
   "source": [
    "label = set(y)\n",
    "label_list = list(label)\n",
    "label_list.sort()\n",
    "\n",
    "for i in range(len(label_list)):\n",
    "    y[y == label_list[i]] =i\n",
    "\n",
    "y = np.array(y, dtype = \"int\")\n",
    "y"
   ]
  },
  {
   "cell_type": "code",
   "execution_count": 51,
   "metadata": {},
   "outputs": [],
   "source": [
    "df_test = make_df(Tr=False)\n",
    "# x : 24次元のMFCC特徴量, y : データのラベル\n",
    "x_t = df_test.iloc[:, 0:24]\n",
    "y_t = df_test.iloc[:, 24]"
   ]
  },
  {
   "cell_type": "code",
   "execution_count": 52,
   "metadata": {},
   "outputs": [],
   "source": [
    "label_test = set(y_t)\n",
    "label_list_test = list(label_test)\n",
    "label_list_test.sort()\n",
    "\n",
    "for i in range(len(label_list_test)):\n",
    "    y_t[y_t == label_list_test[i]] =i\n",
    "\n",
    "y_t = np.array(y_t, dtype = \"int\")\n",
    "y_t"
   ]
  },
  {
   "cell_type": "markdown",
   "metadata": {},
   "source": [
    "## CatBoostが扱えるようなデータにする"
   ]
  },
  {
   "cell_type": "code",
   "execution_count": 53,
   "metadata": {},
   "outputs": [],
   "source": [
    "categorical_features_indices = np.where(x.dtypes != np.float)[0]\n",
    "\n",
    "train_pool = Pool(x, y, cat_features=categorical_features_indices)\n",
    "validate_pool = Pool(x_t, y_t, cat_features=categorical_features_indices)"
   ]
  },
  {
   "cell_type": "markdown",
   "metadata": {},
   "source": [
    "## モデルのインスタンス作成 → 学習"
   ]
  },
  {
   "cell_type": "code",
   "execution_count": 54,
   "metadata": {},
   "outputs": [],
   "source": [
    "balanced = {0:3.5, 1:3.5, 2:1, 3:3}\n",
    "# balanced = {0:1, 1:1, 2:1, 3:1}\n",
    "model = CatBoostClassifier(custom_loss=['F1'],\n",
    "                           random_seed=42, \n",
    "                           class_weights = balanced)"
   ]
  },
  {
   "cell_type": "code",
   "execution_count": 507,
   "metadata": {
    "collapsed": true,
    "jupyter": {
     "outputs_hidden": true
    }
   },
   "outputs": [],
   "source": [
    "model.fit(train_pool, \n",
    "          eval_set=validate_pool,    # 検証用データ\n",
    "          early_stopping_rounds=10,  # 10回以上精度が改善しなければ中止\n",
    "          use_best_model=True,       # 最も精度が高かったモデルを使用するかの設定\n",
    "          plot=True) "
   ]
  },
  {
   "cell_type": "code",
   "execution_count": 30,
   "metadata": {},
   "outputs": [],
   "source": [
    "params = {\n",
    "    'depth' : 1,                  # 木の深さ\n",
    "    'learning_rate' : 0.09,       # 学習率\n",
    "    'early_stopping_rounds' : 10,\n",
    "    'iterations' : 300, \n",
    "    'custom_loss' :['F1'], \n",
    "    'random_seed' :42,\n",
    "    'use_best_model': True,\n",
    "}"
   ]
  },
  {
   "cell_type": "code",
   "execution_count": 31,
   "metadata": {
    "collapsed": true,
    "jupyter": {
     "outputs_hidden": true
    }
   },
   "outputs": [],
   "source": [
    "model = CatBoostClassifier(**params, class_weights = balanced)\n",
    "model.fit(train_pool, eval_set=validate_pool)"
   ]
  },
  {
   "cell_type": "code",
   "execution_count": 55,
   "metadata": {},
   "outputs": [],
   "source": [
    "def objective(trial):\n",
    "    # パラメータの指定\n",
    "    params = {\n",
    "        'iterations' : trial.suggest_int('iterations', 50, 250),                         \n",
    "        'depth' : trial.suggest_int('depth', 1, 6),                                       \n",
    "        'learning_rate' : trial.suggest_loguniform('learning_rate', 0.01, 0.3), \n",
    "        'random_strength' :trial.suggest_int('random_strength', 0, 100), \n",
    "        'bagging_temperature' :trial.suggest_loguniform('bagging_temperature', 0.01, 100.00),\n",
    "    }\n",
    "\n",
    "    # 学習\n",
    "    model = CatBoostClassifier(**params, class_weights=balanced, random_seed=42)\n",
    "    model.fit(train_pool)\n",
    "    # 予測\n",
    "    preds = model.predict(validate_pool)\n",
    "    return (1.0 - f1_score(preds, y_t, average=None).mean())"
   ]
  },
  {
   "cell_type": "code",
   "execution_count": 56,
   "metadata": {
    "collapsed": true,
    "jupyter": {
     "outputs_hidden": true
    }
   },
   "outputs": [],
   "source": [
    "study = optuna.create_study()\n",
    "study.optimize(objective, n_trials=100)"
   ]
  },
  {
   "cell_type": "code",
   "execution_count": 57,
   "metadata": {},
   "outputs": [],
   "source": [
    "study.best_params"
   ]
  },
  {
   "cell_type": "code",
   "execution_count": 58,
   "metadata": {
    "collapsed": true,
    "jupyter": {
     "outputs_hidden": true
    }
   },
   "outputs": [],
   "source": [
    "model = CatBoostClassifier(iterations=study.best_params[\"iterations\"],\n",
    "                           depth=study.best_params[\"depth\"],\n",
    "                           learning_rate=study.best_params[\"learning_rate\"],\n",
    "                           random_strength=study.best_params[\"random_strength\"],\n",
    "                           bagging_temperature=study.best_params[\"bagging_temperature\"],\n",
    "                           use_best_model=True,\n",
    "                           custom_loss=\"F1\",\n",
    "                           random_seed=42,\n",
    "                           class_weights=balanced,\n",
    "                           )\n",
    "model.fit(train_pool, eval_set=validate_pool)"
   ]
  },
  {
   "cell_type": "code",
   "execution_count": 59,
   "metadata": {},
   "outputs": [],
   "source": [
    "%%time\n",
    "y_pred = model.predict(x_t)"
   ]
  },
  {
   "cell_type": "markdown",
   "metadata": {},
   "source": [
    "## 学習ecopa, テストarena(混合行列はvoices, buzzer, whistle, base)"
   ]
  },
  {
   "cell_type": "code",
   "execution_count": 513,
   "metadata": {},
   "outputs": [],
   "source": [
    "acc = accuracy_score(y_t, y_pred)\n",
    "f1_test = f1_score(y_t, y_pred, average=None)\n",
    "\n",
    "print('accuracy : {}'.format(acc))\n",
    "print('F1 : {}'.format(f1_test))\n",
    "print('F1_average : {}'.format(f1_test.mean()))"
   ]
  },
  {
   "cell_type": "code",
   "execution_count": 45,
   "metadata": {},
   "outputs": [],
   "source": [
    "acc = accuracy_score(y_t, y_pred)\n",
    "f1_test = f1_score(y_t, y_pred, average=None)\n",
    "\n",
    "print('accuracy : {}'.format(acc))\n",
    "print('F1 : {}'.format(f1_test))\n",
    "print('F1_average : {}'.format(f1_test.mean()))"
   ]
  },
  {
   "cell_type": "code",
   "execution_count": 46,
   "metadata": {},
   "outputs": [],
   "source": [
    "confusion = confusion_matrix(y_t, y_pred)\n",
    "confusion"
   ]
  },
  {
   "cell_type": "markdown",
   "metadata": {},
   "source": [
    "## 学習arena, テストecopa(混合行列はvoices, buzzer, whistle, base)"
   ]
  },
  {
   "cell_type": "code",
   "execution_count": 505,
   "metadata": {},
   "outputs": [],
   "source": [
    "acc = accuracy_score(y_t, y_pred)\n",
    "f1_test = f1_score(y_t, y_pred, average=None)\n",
    "\n",
    "print('accuracy : {}'.format(acc))\n",
    "print('F1 : {}'.format(f1_test))\n",
    "print('F1_average : {}'.format(f1_test.mean()))"
   ]
  },
  {
   "cell_type": "code",
   "execution_count": 468,
   "metadata": {},
   "outputs": [],
   "source": [
    "acc = accuracy_score(y_t, y_pred)\n",
    "f1_test = f1_score(y_t, y_pred, average=None)\n",
    "\n",
    "print('accuracy : {}'.format(acc))\n",
    "print('F1 : {}'.format(f1_test))\n",
    "print('F1_average : {}'.format(f1_test.mean()))"
   ]
  },
  {
   "cell_type": "code",
   "execution_count": 530,
   "metadata": {},
   "outputs": [],
   "source": [
    "confusion = confusion_matrix(y_t, y_pred)\n",
    "confusion"
   ]
  },
  {
   "cell_type": "markdown",
   "metadata": {},
   "source": [
    "## 学習arena, テストecopa"
   ]
  },
  {
   "cell_type": "code",
   "execution_count": 60,
   "metadata": {},
   "outputs": [],
   "source": [
    "acc = accuracy_score(y_t, y_pred)\n",
    "f1_test = f1_score(y_t, y_pred, average=None)\n",
    "\n",
    "print('accuracy : {}'.format(acc))\n",
    "print('F1 : {}'.format(f1_test))\n",
    "print('F1_average : {}'.format(f1_test.mean()))"
   ]
  },
  {
   "cell_type": "code",
   "execution_count": 61,
   "metadata": {},
   "outputs": [],
   "source": [
    "confusion = confusion_matrix(y_t, y_pred)\n",
    "confusion"
   ]
  },
  {
   "cell_type": "code",
   "execution_count": null,
   "metadata": {},
   "outputs": [],
   "source": []
  }
 ],
 "metadata": {
  "kernelspec": {
   "display_name": "Python 3",
   "language": "python",
   "name": "python3"
  },
  "language_info": {
   "codemirror_mode": {
    "name": "ipython",
    "version": 3
   },
   "file_extension": ".py",
   "mimetype": "text/x-python",
   "name": "python",
   "nbconvert_exporter": "python",
   "pygments_lexer": "ipython3",
   "version": "3.6.6"
  }
 },
 "nbformat": 4,
 "nbformat_minor": 4
}
