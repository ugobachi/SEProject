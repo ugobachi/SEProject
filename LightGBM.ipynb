{
 "cells": [
  {
   "cell_type": "markdown",
   "metadata": {},
   "source": [
    "# LightGBM Naive"
   ]
  },
  {
   "cell_type": "code",
   "execution_count": 127,
   "metadata": {},
   "outputs": [],
   "source": [
    "import os\n",
    "import sys\n",
    "import numpy as np\n",
    "import pandas as pd\n",
    "from pathlib import Path\n",
    "from sklearn.model_selection import train_test_split, KFold, cross_validate, StratifiedKFold\n",
    "from sklearn.preprocessing import StandardScaler\n",
    "from sklearn.metrics import accuracy_score, recall_score, precision_score, f1_score, confusion_matrix\n",
    "import sklearn.metrics as metrics\n",
    "import librosa\n",
    "\n",
    "import lightgbm as lgb\n",
    "from sklearn.utils.class_weight import compute_sample_weight\n",
    "import optuna"
   ]
  },
  {
   "cell_type": "code",
   "execution_count": 128,
   "metadata": {},
   "outputs": [],
   "source": [
    "def get_labelname(Tr):\n",
    "    \"\"\"[summary]\n",
    "    training下のラベル名を取得\n",
    "    Returns:\n",
    "        [type]: [description]\n",
    "    \"\"\"    \n",
    "    current = os.getcwd()\n",
    "    if Tr == True:\n",
    "        filepath = current + '/train/'\n",
    "    elif Tr == False:\n",
    "        filepath = current + '/test/'\n",
    "    print(filepath)\n",
    "    labellist = []\n",
    "    for dir in os.listdir(filepath):\n",
    "        if os.path.isdir(os.path.join(filepath, dir))==True:\n",
    "            labellist.append(dir)\n",
    "    \n",
    "    return labellist, filepath\n",
    "\n",
    "def wav2list(p):\n",
    "    \"\"\"[summary]\n",
    "    Get audio file list to process all at once\n",
    "    Returns:\n",
    "        list : list of audio path\n",
    "    \"\"\"\n",
    "    p = Path(p)\n",
    "    audio_list = list(p.glob('*.wav'))\n",
    "\n",
    "    if len(audio_list) == 0:\n",
    "        sys.exit('Not found in {}'.format(p))\n",
    "\n",
    "    return audio_list\n",
    "\n",
    "def get_mfcc_librosa(p):\n",
    "    \"\"\"[summary]\n",
    "    librosaライブラリを用いて24次元MFCCを抽出する\n",
    "    データはtraining以下に置き, 各ラベルごとにフォルダを作ってデータを置いておく\n",
    "    Args:\n",
    "        p ([str]): .wavデータが置いてあるディレクトリ名\n",
    "    Returns:\n",
    "        [tupple]: (ファイル名, 24次元のMFCC)\n",
    "    \"\"\"    \n",
    "    wavlist = wav2list(p)\n",
    "    _name = []\n",
    "    _mfcc = []\n",
    "    wavlist.sort()\n",
    "\n",
    "    for wavfile in wavlist:\n",
    "        y, sr = librosa.core.load(wavfile,sr=44100)\n",
    "        tmp = librosa.feature.mfcc(y=y, sr=44100, hop_length=10, win_length=100, n_mfcc=24)\n",
    "        ceps = tmp.mean(axis=1)\n",
    "        # print(ceps)\n",
    "        _name.append(wavfile.stem)\n",
    "        _mfcc.append(ceps)\n",
    "\n",
    "    return _name, _mfcc\n",
    "\n",
    "def make_df(Tr):\n",
    "    \"\"\"[summary]\n",
    "    trainディレクトリ下から.wavデータを取ってきて抽出したMFCCとラベルから構成されるデータフレームを作成\n",
    "    Returns:\n",
    "        df_new[dataframe]: 学習データのデータフレーム\n",
    "    \"\"\"    \n",
    "    labellist, filepath = get_labelname(Tr)\n",
    "    print(labellist)\n",
    "    cols = [x for x in range(24)]\n",
    "    print(cols)\n",
    "    cols.append('label')\n",
    "    print(cols)\n",
    "    df_new = pd.DataFrame(index = [], columns=cols)\n",
    "    # print(df_new)\n",
    "    for label in labellist:\n",
    "        # print(filepath, label)\n",
    "        labelpath = filepath + label\n",
    "        filename, tmp = get_mfcc_librosa(labelpath)\n",
    "        df = pd.DataFrame(tmp, index=filename)\n",
    "        df = df.assign(label=label)\n",
    "        df_new = pd.concat([df_new, df], axis=0)\n",
    "    \n",
    "    return df_new"
   ]
  },
  {
   "cell_type": "markdown",
   "metadata": {},
   "source": [
    "## 学習データのデータフレーム作成"
   ]
  },
  {
   "cell_type": "code",
   "execution_count": 129,
   "metadata": {},
   "outputs": [],
   "source": [
    "# Training dataのデータフレーム作成 \n",
    "df = make_df(Tr=True)\n",
    "# x : 24次元のMFCC特徴量, y : データのラベル\n",
    "x = df.iloc[:, 0:24]\n",
    "y = df.iloc[:, 24]"
   ]
  },
  {
   "cell_type": "code",
   "execution_count": 130,
   "metadata": {},
   "outputs": [],
   "source": [
    "label = set(y)\n",
    "label_list = list(label)\n",
    "\n",
    "for i in range(len(label_list)):\n",
    "    y[y == label_list[i]] =i\n",
    "\n",
    "y = np.array(y, dtype = \"int\")\n",
    "print(len(y))\n",
    "y"
   ]
  },
  {
   "cell_type": "markdown",
   "metadata": {},
   "source": [
    "## テストデータのデータフレーム作成"
   ]
  },
  {
   "cell_type": "code",
   "execution_count": 131,
   "metadata": {},
   "outputs": [],
   "source": [
    "df_test = make_df(Tr=False)\n",
    "# x : 24次元のMFCC特徴量, y : データのラベル\n",
    "x_t = df_test.iloc[:, 0:24]\n",
    "y_t = df_test.iloc[:, 24]"
   ]
  },
  {
   "cell_type": "code",
   "execution_count": 132,
   "metadata": {},
   "outputs": [],
   "source": [
    "label_test = set(y_t)\n",
    "label_list_test = list(label_test)\n",
    "\n",
    "for i in range(len(label_list_test)):\n",
    "    y_t[y_t == label_list_test[i]] =i\n",
    "\n",
    "y_t = np.array(y_t, dtype = \"int\")\n",
    "print(len(y_t))\n",
    "y_t"
   ]
  },
  {
   "cell_type": "markdown",
   "metadata": {},
   "source": [
    "## LightGBMが扱えるデータにする(Optunaによるパラメータ最適化を施す)"
   ]
  },
  {
   "cell_type": "code",
   "execution_count": 133,
   "metadata": {},
   "outputs": [],
   "source": [
    "def opt(trial):\n",
    "    params = {\n",
    "        'objective': 'multiclass',\n",
    "        'metric': 'multi_logloss',\n",
    "        'lambda_l1': trial.suggest_loguniform('lambda_l1', 1e-8, 10.0),\n",
    "        'lambda_l2': trial.suggest_loguniform('lambda_l2', 1e-8, 10.0),\n",
    "        'num_leaves': trial.suggest_int('num_leaves', 2, 256),\n",
    "        'feature_fraction': trial.suggest_uniform('feature_fraction', 0.1, 1.0),\n",
    "        'bagging_fraction': trial.suggest_uniform('bagging_fraction', 0.1, 1.0),\n",
    "        'bagging_freq': trial.suggest_int('bagging_freq', 0, 10),\n",
    "        'min_child_samples': trial.suggest_int('min_child_samples', 2, 100),\n",
    "    }\n",
    "    \n",
    "    model = lgb.LGBMClassifier(**params)\n",
    "    model.fit(x, y, sample_weight=compute_sample_weight(\"balanced\", y))\n",
    " \n",
    "    preds = model.predict(x_t)\n",
    "    pred_labels = np.rint(preds)\n",
    "    f1 = f1_score(y_t, pred_labels, average=None)\n",
    "    return (1.0 - f1.mean())"
   ]
  },
  {
   "cell_type": "code",
   "execution_count": 134,
   "metadata": {
    "collapsed": true,
    "jupyter": {
     "outputs_hidden": true
    }
   },
   "outputs": [],
   "source": [
    "study = optuna.create_study()\n",
    "study.optimize(opt, n_trials=100)"
   ]
  },
  {
   "cell_type": "code",
   "execution_count": 135,
   "metadata": {},
   "outputs": [],
   "source": [
    "study.best_params"
   ]
  },
  {
   "cell_type": "code",
   "execution_count": 136,
   "metadata": {},
   "outputs": [],
   "source": [
    "fin_lgb = lgb.LGBMClassifier(**study.best_params)\n",
    "fin_lgb.fit(x, y, sample_weight=compute_sample_weight(\"balanced\", y))"
   ]
  },
  {
   "cell_type": "code",
   "execution_count": 146,
   "metadata": {},
   "outputs": [],
   "source": [
    "%%timeit\n",
    "y_pred = fin_lgb.predict(x_t)"
   ]
  },
  {
   "cell_type": "markdown",
   "metadata": {},
   "source": [
    "## 学習ecopa, テストarena(混合行列はvoices, buzzer, whistle, base)"
   ]
  },
  {
   "cell_type": "code",
   "execution_count": 138,
   "metadata": {},
   "outputs": [],
   "source": [
    "acc = accuracy_score(y_t, y_pred)\n",
    "f1_test = f1_score(y_t, y_pred, average=None)\n",
    "precision_rbf_test = precision_score(y_t, y_pred, average=None)\n",
    "recall_rbf_test = recall_score(y_t, y_pred, average=None)\n",
    "\n",
    "print('accuracy : {}'.format(acc))\n",
    "print(\"Precision : \"+ str(precision_rbf_test))\n",
    "print(\"Recall : \"+ str(recall_rbf_test))\n",
    "print('f1: {}'.format(f1_test))\n",
    "print('f1_mean: {}'.format(f1_test.mean()))"
   ]
  },
  {
   "cell_type": "code",
   "execution_count": 139,
   "metadata": {},
   "outputs": [],
   "source": [
    "confusion = confusion_matrix(y_t, y_pred)\n",
    "confusion"
   ]
  },
  {
   "cell_type": "markdown",
   "metadata": {},
   "source": [
    "## 学習arena, テストecopa(混合行列はvoices, buzzer, whistle, base)"
   ]
  },
  {
   "cell_type": "code",
   "execution_count": 125,
   "metadata": {},
   "outputs": [],
   "source": [
    "acc = accuracy_score(y_t, y_pred)\n",
    "f1_test = f1_score(y_t, y_pred, average=None)\n",
    "precision_rbf_test = precision_score(y_t, y_pred, average=None)\n",
    "recall_rbf_test = recall_score(y_t, y_pred, average=None)\n",
    "\n",
    "print('accuracy : {}'.format(acc))\n",
    "print(\"Precision : \"+ str(precision_rbf_test))\n",
    "print(\"Recall : \"+ str(recall_rbf_test))\n",
    "print('f1: {}'.format(f1_test))\n",
    "print('f1_mean: {}'.format(f1_test.mean()))"
   ]
  },
  {
   "cell_type": "code",
   "execution_count": 126,
   "metadata": {},
   "outputs": [],
   "source": [
    "confusion = confusion_matrix(y_t, y_pred)\n",
    "confusion"
   ]
  },
  {
   "cell_type": "code",
   "execution_count": null,
   "metadata": {},
   "outputs": [],
   "source": []
  }
 ],
 "metadata": {
  "kernelspec": {
   "display_name": "Python 3",
   "language": "python",
   "name": "python3"
  },
  "language_info": {
   "codemirror_mode": {
    "name": "ipython",
    "version": 3
   },
   "file_extension": ".py",
   "mimetype": "text/x-python",
   "name": "python",
   "nbconvert_exporter": "python",
   "pygments_lexer": "ipython3",
   "version": "3.6.6"
  }
 },
 "nbformat": 4,
 "nbformat_minor": 4
}
