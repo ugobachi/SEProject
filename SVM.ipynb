{
 "cells": [
  {
   "cell_type": "markdown",
   "metadata": {},
   "source": [
    "# support vector machine"
   ]
  },
  {
   "cell_type": "markdown",
   "metadata": {},
   "source": [
    "## 必要そうなライブラリのインポート"
   ]
  },
  {
   "cell_type": "code",
   "execution_count": 21,
   "metadata": {},
   "outputs": [],
   "source": [
    "import os\n",
    "import sys\n",
    "import time\n",
    "import numpy as np\n",
    "import pandas as pd\n",
    "from pathlib import Path\n",
    "from sklearn.model_selection import train_test_split, GridSearchCV, StratifiedKFold, cross_validate\n",
    "from sklearn.multiclass import OneVsRestClassifier\n",
    "from sklearn.preprocessing import StandardScaler\n",
    "from sklearn.svm import SVC\n",
    "from sklearn.metrics import accuracy_score, recall_score, precision_score, f1_score, confusion_matrix\n",
    "import sklearn.metrics as metrics\n",
    "import librosa\n",
    "import optuna\n",
    "\n",
    "from functools import partial"
   ]
  },
  {
   "cell_type": "markdown",
   "metadata": {},
   "source": [
    "## ラベル名取得、.wavファイルのリスト、24次元MFCC取得の関数"
   ]
  },
  {
   "cell_type": "code",
   "execution_count": 22,
   "metadata": {},
   "outputs": [],
   "source": [
    "def get_labelname(Tr):\n",
    "    \"\"\"[summary]\n",
    "    training下のラベル名を取得\n",
    "    Returns:\n",
    "        [type]: [description]\n",
    "    \"\"\"    \n",
    "    current = os.getcwd()\n",
    "    if Tr == False:\n",
    "        filepath = current + '/train/'\n",
    "    elif Tr == True:\n",
    "        filepath = current + '/test/'\n",
    "    print(filepath)\n",
    "    labellist = []\n",
    "    for dir in os.listdir(filepath):\n",
    "        if os.path.isdir(os.path.join(filepath, dir))==True:\n",
    "            labellist.append(dir)\n",
    "    \n",
    "    return labellist, filepath\n",
    "\n",
    "def wav2list(p):\n",
    "    \"\"\"[summary]\n",
    "    Get audio file list to process all at once\n",
    "    Returns:\n",
    "        list : list of audio path\n",
    "    \"\"\"\n",
    "    p = Path(p)\n",
    "    audio_list = list(p.glob('*.wav'))\n",
    "\n",
    "    if len(audio_list) == 0:\n",
    "        sys.exit('Not found in {}'.format(p))\n",
    "\n",
    "    return audio_list\n",
    "\n",
    "def get_mfcc_librosa(p):\n",
    "    \"\"\"[summary]\n",
    "    librosaライブラリを用いて24次元MFCCを抽出する\n",
    "    データはtraining以下に置き, 各ラベルごとにフォルダを作ってデータを置いておく\n",
    "    Args:\n",
    "        p ([str]): .wavデータが置いてあるディレクトリ名\n",
    "    Returns:\n",
    "        [tupple]: (ファイル名, 24次元のMFCC)\n",
    "    \"\"\"    \n",
    "    wavlist = wav2list(p)\n",
    "    _name = []\n",
    "    _mfcc = []\n",
    "    wavlist.sort()\n",
    "\n",
    "    for wavfile in wavlist:\n",
    "        y, sr = librosa.core.load(wavfile,sr=44100)\n",
    "        tmp = librosa.feature.mfcc(y=y, sr=44100, hop_length=10, win_length=100, n_mfcc=24)\n",
    "        ceps = tmp.mean(axis=1)\n",
    "        # print(ceps)\n",
    "        _name.append(wavfile.stem)\n",
    "        _mfcc.append(ceps)\n",
    "\n",
    "    return _name, _mfcc"
   ]
  },
  {
   "cell_type": "markdown",
   "metadata": {},
   "source": [
    "## Training dataのデータフレームの作成"
   ]
  },
  {
   "cell_type": "code",
   "execution_count": 23,
   "metadata": {},
   "outputs": [],
   "source": [
    "def make_df(Tr):\n",
    "    \"\"\"[summary]\n",
    "    trainディレクトリ下から.wavデータを取ってきて抽出したMFCCとラベルから構成されるデータフレームを作成\n",
    "    Returns:\n",
    "        df_new[dataframe]: 学習データのデータフレーム\n",
    "    \"\"\"    \n",
    "    labellist, filepath = get_labelname(Tr)\n",
    "    print(labellist)\n",
    "    cols = [x for x in range(24)]\n",
    "    print(cols)\n",
    "    cols.append('label')\n",
    "    print(cols)\n",
    "    df_new = pd.DataFrame(index = [], columns=cols)\n",
    "    # print(df_new)\n",
    "    for label in labellist:\n",
    "        # print(filepath, label)\n",
    "        labelpath = filepath + label\n",
    "        filename, tmp = get_mfcc_librosa(labelpath)\n",
    "        df = pd.DataFrame(tmp, index=filename)\n",
    "        df = df.assign(label=label)\n",
    "        df_new = pd.concat([df_new, df], axis=0)\n",
    "    \n",
    "    return df_new"
   ]
  },
  {
   "cell_type": "code",
   "execution_count": 24,
   "metadata": {},
   "outputs": [],
   "source": [
    "# Training dataのデータフレーム作成 \n",
    "df = make_df(Tr=True)\n",
    "# x : 24次元のMFCC特徴量, y : データのラベル\n",
    "x = df.iloc[:, 0:24]\n",
    "y = df.iloc[:, 24]"
   ]
  },
  {
   "cell_type": "markdown",
   "metadata": {},
   "source": [
    "## ラベルを数値に変換"
   ]
  },
  {
   "cell_type": "code",
   "execution_count": 25,
   "metadata": {},
   "outputs": [],
   "source": [
    "label = set(y)\n",
    "label_list = list(label)\n",
    "# label_list.sort()\n",
    "\n",
    "for i in range(len(label_list)):\n",
    "    y[y == label_list[i]] =i\n",
    "\n",
    "y = np.array(y, dtype = \"int\")\n",
    "print(len(y))\n",
    "y"
   ]
  },
  {
   "cell_type": "markdown",
   "metadata": {},
   "source": [
    "## Test dataのデータフレーム作成"
   ]
  },
  {
   "cell_type": "code",
   "execution_count": 26,
   "metadata": {},
   "outputs": [],
   "source": [
    "df_test = make_df(Tr=False)\n",
    "# x : 24次元のMFCC特徴量, y : データのラベル\n",
    "x_t = df_test.iloc[:, 0:24]\n",
    "y_t = df_test.iloc[:, 24]"
   ]
  },
  {
   "cell_type": "markdown",
   "metadata": {},
   "source": [
    "## ラベルを数値に変換"
   ]
  },
  {
   "cell_type": "code",
   "execution_count": 27,
   "metadata": {},
   "outputs": [],
   "source": [
    "label_test = set(y_t)\n",
    "label_list_test = list(label_test)\n",
    "\n",
    "for i in range(len(label_list_test)):\n",
    "    y_t[y_t == label_list_test[i]] =i\n",
    "\n",
    "y_t = np.array(y_t, dtype = \"int\")\n",
    "print(len(y_t))\n",
    "y_t"
   ]
  },
  {
   "cell_type": "markdown",
   "metadata": {},
   "source": [
    "## データを標準化して学習"
   ]
  },
  {
   "cell_type": "code",
   "execution_count": 28,
   "metadata": {},
   "outputs": [],
   "source": [
    "sc = StandardScaler()\n",
    "sc.fit(x)\n",
    "x_train_std = sc.transform(x)\n",
    "x_test_std = sc.transform(x_t)"
   ]
  },
  {
   "cell_type": "markdown",
   "metadata": {},
   "source": [
    "## Optunaを用いてハイパーパラメータを調整"
   ]
  },
  {
   "cell_type": "code",
   "execution_count": null,
   "metadata": {},
   "outputs": [],
   "source": [
    "def opt(X, y, trial):\n",
    "    C = trial.suggest_loguniform('C', 1, 100)\n",
    "    gamma = trial.suggest_loguniform('gamma', 0.001, 3.0)\n",
    "    model_rbf = OneVsRestClassifier(SVC(\n",
    "                C = C,\n",
    "                kernel = 'rbf',\n",
    "                gamma = gamma,\n",
    "                random_state = 42,\n",
    "                class_weight = \"balanced\",\n",
    "    ))\n",
    "    # 5分割してCrosss Validation\n",
    "    kf = StratifiedKFold(n_splits=10, shuffle=True, random_state=42)\n",
    "    \n",
    "    '''\n",
    "    model_rbf = OneVsRestClassifier(model_rbf)\n",
    "    model_rbf.fit(x_train_std, y)\n",
    "    tuna_pred_test = model_rbf.predict(x_test_std)\n",
    "    '''\n",
    "    \n",
    "    scores = cross_validate(model_rbf, X=X, y=y, cv=kf, scoring=['f1_weighted'])\n",
    "    scores = cross_validate(model_rbf, X=X, y=y, cv=kf)\n",
    "    return (1.0 - scores['test_f1_weighted'].mean())"
   ]
  },
  {
   "cell_type": "code",
   "execution_count": 29,
   "metadata": {},
   "outputs": [],
   "source": [
    "def opt(trial):\n",
    "    C = trial.suggest_loguniform('C', 1, 100)\n",
    "    gamma = trial.suggest_loguniform('gamma', 0.001, 3.0)\n",
    "    model_rbf = SVC(\n",
    "                C = C,\n",
    "                kernel = 'rbf',\n",
    "                gamma = gamma,\n",
    "                random_state = 42,\n",
    "                class_weight = \"balanced\",\n",
    "    )\n",
    "    \n",
    "    model_rbf = OneVsRestClassifier(model_rbf)\n",
    "    model_rbf.fit(x_train_std, y)\n",
    "    tuna_pred_test = model_rbf.predict(x_test_std)\n",
    "    return (1.0 - f1_score(tuna_pred_test, y_t, average=None).mean())"
   ]
  },
  {
   "cell_type": "code",
   "execution_count": 30,
   "metadata": {
    "collapsed": true,
    "jupyter": {
     "outputs_hidden": true
    }
   },
   "outputs": [],
   "source": [
    "#セッション作成\n",
    "# f = partial(opt, x_train_std, y)\n",
    "study = optuna.create_study()\n",
    "#回数\n",
    "study.optimize(opt, n_trials=100)"
   ]
  },
  {
   "cell_type": "code",
   "execution_count": 31,
   "metadata": {},
   "outputs": [],
   "source": [
    "print(study.best_params)\n",
    "print(study.best_value)\n",
    "print(study.best_trial)"
   ]
  },
  {
   "cell_type": "markdown",
   "metadata": {},
   "source": [
    "## モデルの学習時間計測"
   ]
  },
  {
   "cell_type": "code",
   "execution_count": 24,
   "metadata": {},
   "outputs": [],
   "source": [
    "model_time = SVC()"
   ]
  },
  {
   "cell_type": "code",
   "execution_count": 18,
   "metadata": {},
   "outputs": [],
   "source": [
    "%%time\n",
    "model_time.fit(x_train_std, y)"
   ]
  },
  {
   "cell_type": "markdown",
   "metadata": {},
   "source": [
    "## 学習データの結果(Accuracy, Precision, Recall, F1)"
   ]
  },
  {
   "cell_type": "code",
   "execution_count": 32,
   "metadata": {},
   "outputs": [],
   "source": [
    "model_rbf = SVC(C = study.best_params[\"C\"], gamma = study.best_params[\"gamma\"], kernel = \"rbf\", random_state = 42, class_weight='balanced')\n",
    "model_rbf = OneVsRestClassifier(model_rbf)"
   ]
  },
  {
   "cell_type": "code",
   "execution_count": 33,
   "metadata": {},
   "outputs": [],
   "source": [
    "model_rbf = model_rbf.fit(x_train_std, y)"
   ]
  },
  {
   "cell_type": "code",
   "execution_count": 34,
   "metadata": {},
   "outputs": [],
   "source": [
    "pred_rbf_train = model_rbf.predict(x_train_std)\n",
    "\n",
    "accuracy_rbf_train = accuracy_score(y, pred_rbf_train)\n",
    "precision_rbf_train = precision_score(y, pred_rbf_train, average=None)\n",
    "recall_rbf_train = recall_score(y, pred_rbf_train, average=None)\n",
    "f1_rbf_train = f1_score(y, pred_rbf_train, average='weighted')"
   ]
  },
  {
   "cell_type": "code",
   "execution_count": 35,
   "metadata": {},
   "outputs": [],
   "source": [
    "print(\"train_result\")\n",
    "print(\"Accuracy : \"+ str(accuracy_rbf_train))\n",
    "print(\"Precision : \"+ str(precision_rbf_train))\n",
    "print(\"Recall : \"+ str(recall_rbf_train))\n",
    "print(\"F1 : \"+ str(f1_rbf_train))"
   ]
  },
  {
   "cell_type": "markdown",
   "metadata": {},
   "source": [
    "## テストデータの結果(Accuracy, Precision, Recall, F1)"
   ]
  },
  {
   "cell_type": "code",
   "execution_count": 36,
   "metadata": {},
   "outputs": [],
   "source": [
    "%%time\n",
    "pred_rbf_test = model_rbf.predict(x_test_std)"
   ]
  },
  {
   "cell_type": "code",
   "execution_count": 37,
   "metadata": {},
   "outputs": [],
   "source": [
    "accuracy_rbf_test = accuracy_score(y_t, pred_rbf_test)\n",
    "precision_rbf_test = precision_score(y_t, pred_rbf_test, average=None)\n",
    "recall_rbf_test = recall_score(y_t, pred_rbf_test, average=None)\n",
    "f1_rbf_test = f1_score(y_t, pred_rbf_test, average='weighted')\n",
    "f1_rbf = f1_score(y_t, pred_rbf_test, average=None)"
   ]
  },
  {
   "cell_type": "code",
   "execution_count": 38,
   "metadata": {},
   "outputs": [],
   "source": [
    "pred_rbf_test"
   ]
  },
  {
   "cell_type": "markdown",
   "metadata": {},
   "source": [
    "## 学習ecopa, テストarena"
   ]
  },
  {
   "cell_type": "code",
   "execution_count": 19,
   "metadata": {},
   "outputs": [],
   "source": [
    "print(\"test_result\")\n",
    "print(\"Accuracy : \"+ str(accuracy_rbf_test))\n",
    "print(\"Precision : \"+ str(precision_rbf_test))\n",
    "print(\"Recall : \"+ str(recall_rbf_test))\n",
    "print(\"F1 : \"+ str(f1_rbf))\n",
    "print(\"F1_rbf : \"+ str(f1_rbf.mean()))"
   ]
  },
  {
   "cell_type": "code",
   "execution_count": 20,
   "metadata": {},
   "outputs": [],
   "source": [
    "confusion = confusion_matrix(y_t, pred_rbf_test)\n",
    "confusion"
   ]
  },
  {
   "cell_type": "code",
   "execution_count": 82,
   "metadata": {},
   "outputs": [],
   "source": [
    "print(\"test_result\")\n",
    "print(\"Accuracy : \"+ str(accuracy_rbf_test))\n",
    "print(\"Precision : \"+ str(precision_rbf_test))\n",
    "print(\"Recall : \"+ str(recall_rbf_test))\n",
    "print(\"F1 : \"+ str(f1_rbf))\n",
    "print(\"F1 mean: \"+ str(f1_rbf.mean()))"
   ]
  },
  {
   "cell_type": "code",
   "execution_count": 83,
   "metadata": {},
   "outputs": [],
   "source": [
    "confusion = confusion_matrix(y_t, pred_rbf_test)\n",
    "confusion"
   ]
  },
  {
   "cell_type": "markdown",
   "metadata": {},
   "source": [
    "## 学習arena, テストecopa"
   ]
  },
  {
   "cell_type": "code",
   "execution_count": 39,
   "metadata": {},
   "outputs": [],
   "source": [
    "print(\"test_result\")\n",
    "print(\"Accuracy : \"+ str(accuracy_rbf_test))\n",
    "print(\"Precision : \"+ str(precision_rbf_test))\n",
    "print(\"Recall : \"+ str(recall_rbf_test))\n",
    "print(\"F1 : \"+ str(f1_rbf))\n",
    "print(\"F1_mean : \"+ str(f1_rbf.mean()))"
   ]
  },
  {
   "cell_type": "code",
   "execution_count": 40,
   "metadata": {},
   "outputs": [],
   "source": [
    "confusion = confusion_matrix(y_t, pred_rbf_test)\n",
    "confusion"
   ]
  },
  {
   "cell_type": "code",
   "execution_count": null,
   "metadata": {},
   "outputs": [],
   "source": []
  }
 ],
 "metadata": {
  "kernelspec": {
   "display_name": "Python 3",
   "language": "python",
   "name": "python3"
  },
  "language_info": {
   "codemirror_mode": {
    "name": "ipython",
    "version": 3
   },
   "file_extension": ".py",
   "mimetype": "text/x-python",
   "name": "python",
   "nbconvert_exporter": "python",
   "pygments_lexer": "ipython3",
   "version": "3.6.6"
  }
 },
 "nbformat": 4,
 "nbformat_minor": 4
}
